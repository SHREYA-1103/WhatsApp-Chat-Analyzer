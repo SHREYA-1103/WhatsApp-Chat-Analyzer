{
 "cells": [
  {
   "cell_type": "code",
   "execution_count": 80,
   "metadata": {},
   "outputs": [],
   "source": [
    "#data preprocessing testing"
   ]
  },
  {
   "cell_type": "code",
   "execution_count": 81,
   "metadata": {},
   "outputs": [],
   "source": [
    "import re #library for regular expression\n",
    "import pandas as pd"
   ]
  },
  {
   "cell_type": "code",
   "execution_count": 82,
   "metadata": {},
   "outputs": [],
   "source": [
    "#opening the text file containing the chats\n",
    "f=open('WhatsApp Chat with Sg Vit Vishal Agrawal.txt','r',encoding='utf-8')"
   ]
  },
  {
   "cell_type": "code",
   "execution_count": 83,
   "metadata": {},
   "outputs": [],
   "source": [
    "#converting the data read from the text file to a string\n",
    "data=f.read()\n",
    "# print(data)"
   ]
  },
  {
   "cell_type": "code",
   "execution_count": 84,
   "metadata": {},
   "outputs": [],
   "source": [
    "#creating the regex to remove the date and time from the strings ibtained and just extract the messgaes\n",
    "pattern = '\\d{1,2}/\\d{1,2}/\\d{2,4},\\s\\d{1,2}:\\d{2}\\s-\\s'"
   ]
  },
  {
   "cell_type": "code",
   "execution_count": 85,
   "metadata": {},
   "outputs": [],
   "source": [
    "messages=re.split(pattern,data)[1:] #used for 1 onwards to avoid the empty string\n",
    "#messages - print the list of messages"
   ]
  },
  {
   "cell_type": "code",
   "execution_count": 86,
   "metadata": {},
   "outputs": [],
   "source": [
    "dates=re.findall(pattern,data) #stores all dates and timings\n",
    "#dates #prints all dates and time stored for each message"
   ]
  },
  {
   "cell_type": "code",
   "execution_count": 87,
   "metadata": {},
   "outputs": [],
   "source": [
    "#creating the dataframe of messages\n",
    "df=pd.DataFrame({'user_message':messages,'message_date':dates})\n",
    "#converting message_date to date and time(currently supports only 24 hour time format)\n",
    "df['message_date']=pd.to_datetime(df['message_date'],format='%d/%m/%Y, %H:%M - ')\n",
    "df.rename(columns={'message_date':'date_time'},inplace=True)\n",
    "#df.head()"
   ]
  },
  {
   "cell_type": "code",
   "execution_count": 88,
   "metadata": {},
   "outputs": [],
   "source": [
    "#currently the user's name and the messgae sent by him is in the same column - should be separated\n",
    "#function to separate users and messgaes:\n",
    "users=[]\n",
    "messages=[]\n",
    "for message in df['user_message']:\n",
    "    entry=re.split('([\\w\\W]+?):\\s',message)\n",
    "    if(entry[1:]): #username\n",
    "        users.append(entry[1])\n",
    "        messages.append(entry[2])\n",
    "    else:\n",
    "        users.append('group_notification')\n",
    "        messages.append(entry[0])\n",
    "        \n",
    "df['user']=users\n",
    "df['message']=messages\n",
    "df.drop(columns=['user_message'],inplace=True)\n",
    "\n",
    "# df.head()"
   ]
  },
  {
   "cell_type": "code",
   "execution_count": 89,
   "metadata": {
    "scrolled": true
   },
   "outputs": [],
   "source": [
    "#separating date and time\n",
    "df['year']=df['date_time'].dt.year #extracting year\n",
    "# df['year']\n",
    "df['month']=df['date_time'].dt.month_name() #extracting month name\n",
    "# df['month']\n",
    "df['day']=df['date_time'].dt.day #extracting day\n",
    "# df['day']\n",
    "df['hour']=df['date_time'].dt.hour #extracting hour\n",
    "# df['hour']\n",
    "df['minute']=df['date_time'].dt.minute #extracting minute\n",
    "# df['minute']\n",
    "# df.head()"
   ]
  },
  {
   "cell_type": "code",
   "execution_count": 90,
   "metadata": {},
   "outputs": [
    {
     "data": {
      "text/html": [
       "<div>\n",
       "<style scoped>\n",
       "    .dataframe tbody tr th:only-of-type {\n",
       "        vertical-align: middle;\n",
       "    }\n",
       "\n",
       "    .dataframe tbody tr th {\n",
       "        vertical-align: top;\n",
       "    }\n",
       "\n",
       "    .dataframe thead th {\n",
       "        text-align: right;\n",
       "    }\n",
       "</style>\n",
       "<table border=\"1\" class=\"dataframe\">\n",
       "  <thead>\n",
       "    <tr style=\"text-align: right;\">\n",
       "      <th></th>\n",
       "      <th>user</th>\n",
       "      <th>percent</th>\n",
       "    </tr>\n",
       "  </thead>\n",
       "  <tbody>\n",
       "    <tr>\n",
       "      <th>0</th>\n",
       "      <td>Shreya Gupta</td>\n",
       "      <td>50.24</td>\n",
       "    </tr>\n",
       "    <tr>\n",
       "      <th>1</th>\n",
       "      <td>Sg Vit Vishal Agrawal</td>\n",
       "      <td>49.76</td>\n",
       "    </tr>\n",
       "  </tbody>\n",
       "</table>\n",
       "</div>"
      ],
      "text/plain": [
       "                    user  percent\n",
       "0           Shreya Gupta    50.24\n",
       "1  Sg Vit Vishal Agrawal    49.76"
      ]
     },
     "execution_count": 90,
     "metadata": {},
     "output_type": "execute_result"
    }
   ],
   "source": [
    "#test code for finding the most active users in the chat\n",
    "round((df['user'].value_counts()/df.shape[0])*100,2).reset_index().rename(columns={'count':'percent'})"
   ]
  },
  {
   "cell_type": "code",
   "execution_count": 91,
   "metadata": {},
   "outputs": [],
   "source": [
    "#test code for finding the most common words in the chat\n",
    "# step 1: remove unecessary words\n",
    "# step 2: form a list of all words\n",
    "# step 3: form a data frame of most common 20 words"
   ]
  },
  {
   "cell_type": "code",
   "execution_count": 92,
   "metadata": {},
   "outputs": [],
   "source": [
    "# step 1: remove unecessary words\n",
    "#group messages (group notifications).\n",
    "temp=df[df['user']!='group_notification']\n",
    "#media omitted messages\n",
    "temp=temp[temp['message']!='<Media omitted>\\n']\n",
    "#stop words (used in sentence formation but has no meaning)\n",
    "f=open('stop_hinglish.txt','r')\n",
    "stop_words=f.read()"
   ]
  },
  {
   "cell_type": "code",
   "execution_count": 93,
   "metadata": {},
   "outputs": [],
   "source": [
    "#test code for finding the top 20 most used words in the chat after removing unecessary words\n",
    "from collections import Counter\n",
    "words=[] #list of all words\n",
    "for message in temp['message']:\n",
    "    for word in message.lower().split():\n",
    "        if word not in stop_words:\n",
    "            words.append(word)\n",
    "#data frame of most common 20 words\n",
    "new_df=pd.DataFrame(Counter(words).most_common(20))"
   ]
  },
  {
   "cell_type": "code",
   "execution_count": 94,
   "metadata": {},
   "outputs": [],
   "source": [
    "#finds the month number (earlier we added the month name in the dataframe)\n",
    "df['month_num']=df['date_time'].dt.month"
   ]
  },
  {
   "cell_type": "code",
   "execution_count": 95,
   "metadata": {},
   "outputs": [],
   "source": [
    "# df to record the counts the no. of messages in each month of each year\n",
    "timeline=df.groupby(['year','month_num','month']).count()['message'].reset_index()"
   ]
  },
  {
   "cell_type": "code",
   "execution_count": 96,
   "metadata": {},
   "outputs": [],
   "source": [
    "#merging year and month columns\n",
    "time=[]\n",
    "for i in range(timeline.shape[0]):\n",
    "    time.append(timeline['month'][i]+\" - \"+str(timeline['year'][i]))"
   ]
  },
  {
   "cell_type": "code",
   "execution_count": 97,
   "metadata": {},
   "outputs": [],
   "source": [
    "timeline['time']=time"
   ]
  },
  {
   "cell_type": "code",
   "execution_count": 98,
   "metadata": {},
   "outputs": [],
   "source": [
    "#to form a separate column for date in the data frame\n",
    "df['date']=df['date_time'].dt.date"
   ]
  },
  {
   "cell_type": "code",
   "execution_count": 99,
   "metadata": {},
   "outputs": [
    {
     "data": {
      "text/html": [
       "<div>\n",
       "<style scoped>\n",
       "    .dataframe tbody tr th:only-of-type {\n",
       "        vertical-align: middle;\n",
       "    }\n",
       "\n",
       "    .dataframe tbody tr th {\n",
       "        vertical-align: top;\n",
       "    }\n",
       "\n",
       "    .dataframe thead th {\n",
       "        text-align: right;\n",
       "    }\n",
       "</style>\n",
       "<table border=\"1\" class=\"dataframe\">\n",
       "  <thead>\n",
       "    <tr style=\"text-align: right;\">\n",
       "      <th></th>\n",
       "      <th>date</th>\n",
       "      <th>message</th>\n",
       "    </tr>\n",
       "  </thead>\n",
       "  <tbody>\n",
       "    <tr>\n",
       "      <th>0</th>\n",
       "      <td>2022-10-13</td>\n",
       "      <td>16</td>\n",
       "    </tr>\n",
       "    <tr>\n",
       "      <th>1</th>\n",
       "      <td>2022-10-14</td>\n",
       "      <td>99</td>\n",
       "    </tr>\n",
       "    <tr>\n",
       "      <th>2</th>\n",
       "      <td>2022-10-15</td>\n",
       "      <td>75</td>\n",
       "    </tr>\n",
       "    <tr>\n",
       "      <th>3</th>\n",
       "      <td>2022-10-16</td>\n",
       "      <td>184</td>\n",
       "    </tr>\n",
       "    <tr>\n",
       "      <th>4</th>\n",
       "      <td>2022-10-17</td>\n",
       "      <td>145</td>\n",
       "    </tr>\n",
       "    <tr>\n",
       "      <th>...</th>\n",
       "      <td>...</td>\n",
       "      <td>...</td>\n",
       "    </tr>\n",
       "    <tr>\n",
       "      <th>243</th>\n",
       "      <td>2023-06-13</td>\n",
       "      <td>39</td>\n",
       "    </tr>\n",
       "    <tr>\n",
       "      <th>244</th>\n",
       "      <td>2023-06-14</td>\n",
       "      <td>14</td>\n",
       "    </tr>\n",
       "    <tr>\n",
       "      <th>245</th>\n",
       "      <td>2023-06-15</td>\n",
       "      <td>43</td>\n",
       "    </tr>\n",
       "    <tr>\n",
       "      <th>246</th>\n",
       "      <td>2023-06-16</td>\n",
       "      <td>47</td>\n",
       "    </tr>\n",
       "    <tr>\n",
       "      <th>247</th>\n",
       "      <td>2023-06-17</td>\n",
       "      <td>69</td>\n",
       "    </tr>\n",
       "  </tbody>\n",
       "</table>\n",
       "<p>248 rows × 2 columns</p>\n",
       "</div>"
      ],
      "text/plain": [
       "           date  message\n",
       "0    2022-10-13       16\n",
       "1    2022-10-14       99\n",
       "2    2022-10-15       75\n",
       "3    2022-10-16      184\n",
       "4    2022-10-17      145\n",
       "..          ...      ...\n",
       "243  2023-06-13       39\n",
       "244  2023-06-14       14\n",
       "245  2023-06-15       43\n",
       "246  2023-06-16       47\n",
       "247  2023-06-17       69\n",
       "\n",
       "[248 rows x 2 columns]"
      ]
     },
     "execution_count": 99,
     "metadata": {},
     "output_type": "execute_result"
    }
   ],
   "source": [
    "#to find no. of messages sent on each date \n",
    "df.groupby(['date']).count()['message'].reset_index()"
   ]
  },
  {
   "cell_type": "code",
   "execution_count": 105,
   "metadata": {},
   "outputs": [
    {
     "data": {
      "text/plain": [
       "day_name\n",
       "Friday       6153\n",
       "Sunday       5963\n",
       "Monday       5873\n",
       "Wednesday    5792\n",
       "Saturday     5745\n",
       "Thursday     5386\n",
       "Tuesday      5087\n",
       "Name: count, dtype: int64"
      ]
     },
     "execution_count": 105,
     "metadata": {},
     "output_type": "execute_result"
    }
   ],
   "source": [
    "#to find no. of messages sent on each day of the week \n",
    "df['day_name']=df['date_time'].dt.day_name()\n",
    "df['day_name'].value_counts()\n"
   ]
  },
  {
   "cell_type": "code",
   "execution_count": 107,
   "metadata": {},
   "outputs": [],
   "source": [
    "#creating a new period column to contain data like 4-5 hour of the day\n",
    "period=[]\n",
    "for hour in df[['day_name','hour']]['hour']:\n",
    "    if hour==23:\n",
    "        period.append(str(hour)+\"-\"+str(\"00\"))\n",
    "    elif hour==0:\n",
    "        period.append(str(\"00\")+\"-\"+str(hour+1))\n",
    "    else:\n",
    "        period.append(str(hour)+\"-\"+str(hour+1))"
   ]
  },
  {
   "cell_type": "code",
   "execution_count": 109,
   "metadata": {},
   "outputs": [],
   "source": [
    "df['period']=period"
   ]
  },
  {
   "cell_type": "code",
   "execution_count": null,
   "metadata": {},
   "outputs": [],
   "source": [
    "import seaborn\n"
   ]
  }
 ],
 "metadata": {
  "kernelspec": {
   "display_name": "Python 3 (ipykernel)",
   "language": "python",
   "name": "python3"
  },
  "language_info": {
   "codemirror_mode": {
    "name": "ipython",
    "version": 3
   },
   "file_extension": ".py",
   "mimetype": "text/x-python",
   "name": "python",
   "nbconvert_exporter": "python",
   "pygments_lexer": "ipython3",
   "version": "3.11.3"
  }
 },
 "nbformat": 4,
 "nbformat_minor": 2
}
